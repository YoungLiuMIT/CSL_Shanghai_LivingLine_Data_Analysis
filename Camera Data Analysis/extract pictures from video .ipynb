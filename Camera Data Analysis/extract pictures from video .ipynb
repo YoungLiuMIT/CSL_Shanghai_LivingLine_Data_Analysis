{
 "cells": [
  {
   "cell_type": "code",
   "execution_count": 1,
   "metadata": {},
   "outputs": [],
   "source": [
    "import cv2\n",
    "import os"
   ]
  },
  {
   "cell_type": "code",
   "execution_count": null,
   "metadata": {},
   "outputs": [],
   "source": [
    "videos_src_path = r'D:\\CityScienceSH\\Data\\Camera Data\\MIT Pavillion\\20180520'\n",
    "videos_save_path = r'D:\\CityScienceSH\\Data\\Camera Data\\MIT Pavillion\\picture clips from video'\n",
    "os.chdir(videos_src_path)\n",
    "vc = cv2.VideoCapture('NVR_ch4_main_20180520120000_20180520130000.asf') #读入视频文件"
   ]
  },
  {
   "cell_type": "code",
   "execution_count": null,
   "metadata": {},
   "outputs": [],
   "source": [
    "if (vc.isOpened()== False): \n",
    "    print('Error opening video stream or file')\n",
    "    exit()"
   ]
  },
  {
   "cell_type": "code",
   "execution_count": null,
   "metadata": {},
   "outputs": [],
   "source": [
    "timeF = 15  #视频帧计数间隔频率\n",
    "frame_get = 1800\n",
    "c = 1\n",
    "while frame_get<=3600:   #循环读取视频帧 #设置结束的帧数\n",
    "    rval, frame = vc.read()\n",
    "    if rval == True:\n",
    "        frame_get += 1        \n",
    "        if frame_get%timeF == 0: #每隔timeF帧进行存储操作\n",
    "            d = int(c)\n",
    "            c += 0.5\n",
    "            cv2.imwrite(str(201805201201) + str(d) + '_' + str(frame_get) + '.png',frame) #存储为图像\n",
    "#            cv2.waitKey(0)\n",
    "vc.release()"
   ]
  }
 ],
 "metadata": {
  "kernelspec": {
   "display_name": "Python 3",
   "language": "python",
   "name": "python3"
  },
  "language_info": {
   "codemirror_mode": {
    "name": "ipython",
    "version": 3
   },
   "file_extension": ".py",
   "mimetype": "text/x-python",
   "name": "python",
   "nbconvert_exporter": "python",
   "pygments_lexer": "ipython3",
   "version": "3.6.5"
  }
 },
 "nbformat": 4,
 "nbformat_minor": 2
}
