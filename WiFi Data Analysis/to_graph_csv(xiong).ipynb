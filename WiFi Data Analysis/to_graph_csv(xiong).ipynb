{
 "cells": [
  {
   "cell_type": "code",
   "execution_count": 2,
   "metadata": {},
   "outputs": [
    {
     "name": "stdout",
     "output_type": "stream",
     "text": [
      "[1, 2, 3, 4, 5, 6]\n"
     ]
    }
   ],
   "source": [
    "import urllib\n",
    "import pandas\n",
    "\n",
    "ids = [1,4,3,3,4,2,3,4,5,6,1]\n",
    "news_ids = list(set(ids))\n",
    "#news_ids.sort(ids.index)\n",
    "print (news_ids)"
   ]
  },
  {
   "cell_type": "code",
   "execution_count": 6,
   "metadata": {},
   "outputs": [
    {
     "name": "stdout",
     "output_type": "stream",
     "text": [
      "1762\n"
     ]
    }
   ],
   "source": [
    "import urllib\n",
    "import pandas\n",
    "import json\n",
    "\n",
    "final_mac_list=[]\n",
    "f = open(\"data_7_15_05.json\",\"r\", encoding='utf-8', errors='ignore')\n",
    "content = f.read()\n",
    "f.close()\n",
    "json_data = json.loads(content)\n",
    "for line in json_data:\n",
    "    mac_list = line['mac_list']\n",
    "    time = line['time_send']\n",
    "    if int(time[14]) == 1:\n",
    "        break\n",
    "    for x in mac_list:\n",
    "        final_mac_list.append(x['mac'])\n",
    "    final_mac_list = list(set(final_mac_list))\n",
    "print (len(final_mac_list))"
   ]
  },
  {
   "cell_type": "code",
   "execution_count": 3,
   "metadata": {},
   "outputs": [
    {
     "name": "stdout",
     "output_type": "stream",
     "text": [
      "finished\n"
     ]
    }
   ],
   "source": [
    "import urllib\n",
    "import pandas\n",
    "import json\n",
    "import csv\n",
    "\n",
    "final_mac_list=[]\n",
    "f = open(\"data_7_15_05.json\",\"r\", encoding='utf-8', errors='ignore')\n",
    "content = f.read()\n",
    "f.close()\n",
    "json_data = json.loads(content)\n",
    "new_json_data = []\n",
    "for line in json_data:\n",
    "    time = line['time_send']\n",
    "    if int(time[14]) == 1:\n",
    "        break\n",
    "    new_json_data.append(line)\n",
    "    \n",
    "csv_data = []\n",
    "csv_data.append(['epoch', 'source', 'target', 'source_hit', 'target_hit'])\n",
    "for line in new_json_data:\n",
    "    mac_list = line['mac_list']\n",
    "    ap_mac = line['ap_mac']\n",
    "    for x in mac_list:\n",
    "        csv_data.append([line['time_send'], ap_mac, x['mac'], 'true', ''])\n",
    "with open('07_15_05_graph.csv', 'a', errors='ignore', newline='') as f:\n",
    "    f_csv = csv.writer(f)\n",
    "    f_csv.writerows(csv_data)\n",
    "print('finished')\n",
    "        \n",
    "        "
   ]
  },
  {
   "cell_type": "code",
   "execution_count": null,
   "metadata": {},
   "outputs": [],
   "source": []
  }
 ],
 "metadata": {
  "kernelspec": {
   "display_name": "Python 3",
   "language": "python",
   "name": "python3"
  },
  "language_info": {
   "codemirror_mode": {
    "name": "ipython",
    "version": 3
   },
   "file_extension": ".py",
   "mimetype": "text/x-python",
   "name": "python",
   "nbconvert_exporter": "python",
   "pygments_lexer": "ipython3",
   "version": "3.6.4"
  }
 },
 "nbformat": 4,
 "nbformat_minor": 2
}
